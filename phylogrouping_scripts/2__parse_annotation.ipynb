{
 "cells": [
  {
   "cell_type": "markdown",
   "id": "2e107812",
   "metadata": {},
   "source": [
    "## Setup"
   ]
  },
  {
   "cell_type": "code",
   "execution_count": 1,
   "id": "6920b2a6",
   "metadata": {
    "ExecuteTime": {
     "end_time": "2023-07-05T01:56:04.777870Z",
     "start_time": "2023-07-05T01:56:03.742478Z"
    }
   },
   "outputs": [],
   "source": [
    "# built-in packages\n",
    "import os\n",
    "\n",
    "# third-party packages\n",
    "from matplotlib import pyplot as plt\n",
    "import pandas as pd\n",
    "import seaborn as sns\n",
    "from tqdm.notebook import tqdm\n",
    "\n",
    "plt.rcParams[\"figure.dpi\"] = 200\n",
    "sns.set_palette(\"deep\")\n",
    "sns.set_context(\"paper\")"
   ]
  },
  {
   "cell_type": "markdown",
   "id": "ba79fce4",
   "metadata": {},
   "source": [
    "## ClermonTyping\n",
    "\n",
    "Actual ClermonTyping takes place in the `1__annotate_phylogroups.py` script. This generates multiple results files which must be collated."
   ]
  },
  {
   "cell_type": "markdown",
   "id": "5a3fd741",
   "metadata": {},
   "source": [
    "### Concatenate phylogroup files"
   ]
  },
  {
   "cell_type": "code",
   "execution_count": 3,
   "id": "53c95cec",
   "metadata": {
    "ExecuteTime": {
     "end_time": "2023-07-05T02:03:28.127057Z",
     "start_time": "2023-07-05T02:00:34.262119Z"
    }
   },
   "outputs": [
    {
     "data": {
      "application/vnd.jupyter.widget-view+json": {
       "model_id": "17e4a0e442b64feb91609431f57d69fe",
       "version_major": 2,
       "version_minor": 0
      },
      "text/plain": [
       "  0%|          | 0/2367 [00:00<?, ?it/s]"
      ]
     },
     "metadata": {},
     "output_type": "display_data"
    }
   ],
   "source": [
    "# Takes ~7 minutes if assert statement is run, ~3 minutes if skipped\n",
    "# Here are finding the _phylogroups.txt file from our output dirs (change file path accordingly)\n",
    "\n",
    "CLERMONT = '.'\n",
    "DF_PATHS = []\n",
    "\n",
    "\n",
    "for path in tqdm(os.listdir(CLERMONT)):\n",
    "    if 'ipynb' in path:\n",
    "        continue\n",
    "    full_path = os.path.join(CLERMONT, path)\n",
    "    \n",
    "    if os.path.isdir(full_path):\n",
    "        df_path = os.path.join(full_path, f'{path}_phylogroups.txt')\n",
    "        #assert os.path.isfile(df_path)\n",
    "        DF_PATHS.append(df_path)"
   ]
  },
  {
   "cell_type": "code",
   "execution_count": 4,
   "id": "829c289c",
   "metadata": {
    "ExecuteTime": {
     "end_time": "2023-07-05T02:18:43.834181Z",
     "start_time": "2023-07-05T02:06:07.260285Z"
    }
   },
   "outputs": [
    {
     "data": {
      "application/vnd.jupyter.widget-view+json": {
       "model_id": "2114a1b7e65041db90da088efdadaffb",
       "version_major": 2,
       "version_minor": 0
      },
      "text/plain": [
       "  0%|          | 0/2362 [00:00<?, ?it/s]"
      ]
     },
     "metadata": {},
     "output_type": "display_data"
    }
   ],
   "source": [
    "with open('./ecoli_phylogroups.txt', 'w') as outfile:\n",
    "    for fname in tqdm(DF_PATHS):\n",
    "        with open(fname) as infile:\n",
    "            outfile.write(infile.read())"
   ]
  },
  {
   "cell_type": "markdown",
   "id": "a9cfdb22",
   "metadata": {},
   "source": [
    "### Post-process resultant file"
   ]
  },
  {
   "cell_type": "code",
   "execution_count": 5,
   "id": "9c414eb8",
   "metadata": {
    "ExecuteTime": {
     "end_time": "2023-07-05T02:18:49.915909Z",
     "start_time": "2023-07-05T02:18:49.819249Z"
    }
   },
   "outputs": [
    {
     "data": {
      "text/html": [
       "<div>\n",
       "<style scoped>\n",
       "    .dataframe tbody tr th:only-of-type {\n",
       "        vertical-align: middle;\n",
       "    }\n",
       "\n",
       "    .dataframe tbody tr th {\n",
       "        vertical-align: top;\n",
       "    }\n",
       "\n",
       "    .dataframe thead th {\n",
       "        text-align: right;\n",
       "    }\n",
       "</style>\n",
       "<table border=\"1\" class=\"dataframe\">\n",
       "  <thead>\n",
       "    <tr style=\"text-align: right;\">\n",
       "      <th></th>\n",
       "      <th>genome_id</th>\n",
       "      <th>pcr_genes</th>\n",
       "      <th>quadruplex</th>\n",
       "      <th>CE_alleles</th>\n",
       "      <th>phylogroup</th>\n",
       "    </tr>\n",
       "  </thead>\n",
       "  <tbody>\n",
       "    <tr>\n",
       "      <th>0</th>\n",
       "      <td>562.46071</td>\n",
       "      <td>['ybgD', 'trpA', 'trpBA', 'yjaA', 'arpA']</td>\n",
       "      <td>['+', '-', '+', '-']</td>\n",
       "      <td>[]</td>\n",
       "      <td>A</td>\n",
       "    </tr>\n",
       "    <tr>\n",
       "      <th>1</th>\n",
       "      <td>562.70513</td>\n",
       "      <td>['ybgD', 'trpA', 'trpBA', 'chuA', 'TspE4.C2', ...</td>\n",
       "      <td>['+', '+', '-', '+']</td>\n",
       "      <td>['trpAgpC']</td>\n",
       "      <td>D</td>\n",
       "    </tr>\n",
       "    <tr>\n",
       "      <th>2</th>\n",
       "      <td>562.67796</td>\n",
       "      <td>['ybgD', 'trpA', 'trpBA', 'TspE4.C2', 'arpA', ...</td>\n",
       "      <td>['+', '-', '-', '+']</td>\n",
       "      <td>['trpAgpC']</td>\n",
       "      <td>B1</td>\n",
       "    </tr>\n",
       "    <tr>\n",
       "      <th>3</th>\n",
       "      <td>83334.637</td>\n",
       "      <td>['trpA', 'trpBA', 'chuA', 'arpA', 'ArpAgpE', '...</td>\n",
       "      <td>['+', '+', '-', '-']</td>\n",
       "      <td>['ArpAgpE', 'trpAgpC']</td>\n",
       "      <td>E</td>\n",
       "    </tr>\n",
       "    <tr>\n",
       "      <th>4</th>\n",
       "      <td>562.102351</td>\n",
       "      <td>['ybgD', 'trpA', 'trpBA', 'chuA', 'arpA', 'trp...</td>\n",
       "      <td>['+', '+', '-', '-']</td>\n",
       "      <td>['trpAgpC']</td>\n",
       "      <td>D</td>\n",
       "    </tr>\n",
       "    <tr>\n",
       "      <th>...</th>\n",
       "      <td>...</td>\n",
       "      <td>...</td>\n",
       "      <td>...</td>\n",
       "      <td>...</td>\n",
       "      <td>...</td>\n",
       "    </tr>\n",
       "    <tr>\n",
       "      <th>2357</th>\n",
       "      <td>562.112528</td>\n",
       "      <td>['ybgD', 'trpA', 'trpBA', 'TspE4.C2', 'arpA', ...</td>\n",
       "      <td>['+', '-', '-', '+']</td>\n",
       "      <td>['trpAgpC']</td>\n",
       "      <td>B1</td>\n",
       "    </tr>\n",
       "    <tr>\n",
       "      <th>2358</th>\n",
       "      <td>562.61628</td>\n",
       "      <td>['ybgD', 'trpA', 'trpBA', 'arpA', 'trpAgpC']</td>\n",
       "      <td>['+', '-', '-', '-']</td>\n",
       "      <td>['trpAgpC']</td>\n",
       "      <td>A</td>\n",
       "    </tr>\n",
       "    <tr>\n",
       "      <th>2359</th>\n",
       "      <td>562.94170</td>\n",
       "      <td>['trpA', 'trpBA', 'yjaA', 'arpA']</td>\n",
       "      <td>['+', '-', '+', '-']</td>\n",
       "      <td>[]</td>\n",
       "      <td>A</td>\n",
       "    </tr>\n",
       "    <tr>\n",
       "      <th>2360</th>\n",
       "      <td>562.66855</td>\n",
       "      <td>['ybgD', 'trpA', 'trpBA', 'chuA', 'arpA', 'trp...</td>\n",
       "      <td>['+', '+', '-', '-']</td>\n",
       "      <td>['trpAgpC']</td>\n",
       "      <td>D</td>\n",
       "    </tr>\n",
       "    <tr>\n",
       "      <th>2361</th>\n",
       "      <td>562.28411</td>\n",
       "      <td>['trpA', 'trpBA', 'yjaA', 'arpA']</td>\n",
       "      <td>['+', '-', '+', '-']</td>\n",
       "      <td>[]</td>\n",
       "      <td>A</td>\n",
       "    </tr>\n",
       "  </tbody>\n",
       "</table>\n",
       "<p>2362 rows × 5 columns</p>\n",
       "</div>"
      ],
      "text/plain": [
       "       genome_id                                          pcr_genes  \\\n",
       "0      562.46071          ['ybgD', 'trpA', 'trpBA', 'yjaA', 'arpA']   \n",
       "1      562.70513  ['ybgD', 'trpA', 'trpBA', 'chuA', 'TspE4.C2', ...   \n",
       "2      562.67796  ['ybgD', 'trpA', 'trpBA', 'TspE4.C2', 'arpA', ...   \n",
       "3      83334.637  ['trpA', 'trpBA', 'chuA', 'arpA', 'ArpAgpE', '...   \n",
       "4     562.102351  ['ybgD', 'trpA', 'trpBA', 'chuA', 'arpA', 'trp...   \n",
       "...          ...                                                ...   \n",
       "2357  562.112528  ['ybgD', 'trpA', 'trpBA', 'TspE4.C2', 'arpA', ...   \n",
       "2358   562.61628       ['ybgD', 'trpA', 'trpBA', 'arpA', 'trpAgpC']   \n",
       "2359   562.94170                  ['trpA', 'trpBA', 'yjaA', 'arpA']   \n",
       "2360   562.66855  ['ybgD', 'trpA', 'trpBA', 'chuA', 'arpA', 'trp...   \n",
       "2361   562.28411                  ['trpA', 'trpBA', 'yjaA', 'arpA']   \n",
       "\n",
       "                quadruplex              CE_alleles phylogroup  \n",
       "0     ['+', '-', '+', '-']                      []          A  \n",
       "1     ['+', '+', '-', '+']             ['trpAgpC']          D  \n",
       "2     ['+', '-', '-', '+']             ['trpAgpC']         B1  \n",
       "3     ['+', '+', '-', '-']  ['ArpAgpE', 'trpAgpC']          E  \n",
       "4     ['+', '+', '-', '-']             ['trpAgpC']          D  \n",
       "...                    ...                     ...        ...  \n",
       "2357  ['+', '-', '-', '+']             ['trpAgpC']         B1  \n",
       "2358  ['+', '-', '-', '-']             ['trpAgpC']          A  \n",
       "2359  ['+', '-', '+', '-']                      []          A  \n",
       "2360  ['+', '+', '-', '-']             ['trpAgpC']          D  \n",
       "2361  ['+', '-', '+', '-']                      []          A  \n",
       "\n",
       "[2362 rows x 5 columns]"
      ]
     },
     "execution_count": 5,
     "metadata": {},
     "output_type": "execute_result"
    }
   ],
   "source": [
    "ecoli_phylgroups = pd.read_csv('./ecoli_phylogroups.txt', sep='\\t', header=None)\n",
    "\n",
    "# Drop column listing MASH output filename\n",
    "ecoli_phylgroups.drop(ecoli_phylgroups.columns[len(ecoli_phylgroups.columns)-1], axis=1, inplace=True)\n",
    "\n",
    "# Add column names\n",
    "ecoli_phylgroups.columns = ['genome_id', 'pcr_genes', 'quadruplex', 'CE_alleles', 'phylogroup']\n",
    "\n",
    "# Remove '.fna' from genome_id name\n",
    "ecoli_phylgroups['genome_id'] = ecoli_phylgroups.genome_id.apply(lambda x: x[:-4])\n",
    "\n",
    "ecoli_phylgroups"
   ]
  },
  {
   "cell_type": "code",
   "execution_count": 6,
   "id": "3c518eca",
   "metadata": {
    "ExecuteTime": {
     "end_time": "2023-07-05T02:19:22.927959Z",
     "start_time": "2023-07-05T02:19:22.912342Z"
    }
   },
   "outputs": [
    {
     "data": {
      "text/html": [
       "<div>\n",
       "<style scoped>\n",
       "    .dataframe tbody tr th:only-of-type {\n",
       "        vertical-align: middle;\n",
       "    }\n",
       "\n",
       "    .dataframe tbody tr th {\n",
       "        vertical-align: top;\n",
       "    }\n",
       "\n",
       "    .dataframe thead th {\n",
       "        text-align: right;\n",
       "    }\n",
       "</style>\n",
       "<table border=\"1\" class=\"dataframe\">\n",
       "  <thead>\n",
       "    <tr style=\"text-align: right;\">\n",
       "      <th></th>\n",
       "      <th>genome_id</th>\n",
       "      <th>pcr_genes</th>\n",
       "      <th>quadruplex</th>\n",
       "      <th>CE_alleles</th>\n",
       "      <th>phylogroup</th>\n",
       "    </tr>\n",
       "  </thead>\n",
       "  <tbody>\n",
       "    <tr>\n",
       "      <th>270</th>\n",
       "      <td>562.112392</td>\n",
       "      <td>[]</td>\n",
       "      <td>['-', '-', '-', '-']</td>\n",
       "      <td>[]</td>\n",
       "      <td>Non Escherichia</td>\n",
       "    </tr>\n",
       "    <tr>\n",
       "      <th>655</th>\n",
       "      <td>562.48218</td>\n",
       "      <td>[]</td>\n",
       "      <td>['-', '-', '-', '-']</td>\n",
       "      <td>[]</td>\n",
       "      <td>Non Escherichia</td>\n",
       "    </tr>\n",
       "  </tbody>\n",
       "</table>\n",
       "</div>"
      ],
      "text/plain": [
       "      genome_id pcr_genes            quadruplex CE_alleles       phylogroup\n",
       "270  562.112392        []  ['-', '-', '-', '-']         []  Non Escherichia\n",
       "655   562.48218        []  ['-', '-', '-', '-']         []  Non Escherichia"
      ]
     },
     "execution_count": 6,
     "metadata": {},
     "output_type": "execute_result"
    }
   ],
   "source": [
    "# CORRECTION: Rerunning everything has gotten rid of these \"non-Escherichia\" strains\n",
    "\n",
    "# Among public genomes, all but '562.78335' are NOT E coli,\n",
    "# need to remove ALL from pangenome collection (in later notebook)\n",
    "ecoli_phylgroups[ecoli_phylgroups.phylogroup == 'Non Escherichia']"
   ]
  },
  {
   "cell_type": "code",
   "execution_count": 7,
   "id": "12757787",
   "metadata": {
    "ExecuteTime": {
     "end_time": "2023-07-05T02:19:30.316684Z",
     "start_time": "2023-07-05T02:19:30.295057Z"
    }
   },
   "outputs": [
    {
     "data": {
      "text/html": [
       "<div>\n",
       "<style scoped>\n",
       "    .dataframe tbody tr th:only-of-type {\n",
       "        vertical-align: middle;\n",
       "    }\n",
       "\n",
       "    .dataframe tbody tr th {\n",
       "        vertical-align: top;\n",
       "    }\n",
       "\n",
       "    .dataframe thead th {\n",
       "        text-align: right;\n",
       "    }\n",
       "</style>\n",
       "<table border=\"1\" class=\"dataframe\">\n",
       "  <thead>\n",
       "    <tr style=\"text-align: right;\">\n",
       "      <th></th>\n",
       "      <th>genome_id</th>\n",
       "      <th>pcr_genes</th>\n",
       "      <th>quadruplex</th>\n",
       "      <th>CE_alleles</th>\n",
       "      <th>phylogroup</th>\n",
       "    </tr>\n",
       "  </thead>\n",
       "  <tbody>\n",
       "    <tr>\n",
       "      <th>146</th>\n",
       "      <td>562.96230</td>\n",
       "      <td>['trpA', 'trpBA', 'chuA', 'yjaA', 'TspE4.C2', ...</td>\n",
       "      <td>['+', '+', '+', '+']</td>\n",
       "      <td>[]</td>\n",
       "      <td>Unknown</td>\n",
       "    </tr>\n",
       "    <tr>\n",
       "      <th>183</th>\n",
       "      <td>2044467.5</td>\n",
       "      <td>['trpBA']</td>\n",
       "      <td>['-', '-', '-', '-']</td>\n",
       "      <td>[]</td>\n",
       "      <td>Unknown</td>\n",
       "    </tr>\n",
       "    <tr>\n",
       "      <th>334</th>\n",
       "      <td>562.16414</td>\n",
       "      <td>['ybgD', 'trpA', 'trpBA']</td>\n",
       "      <td>['-', '-', '-', '-']</td>\n",
       "      <td>[]</td>\n",
       "      <td>Unknown</td>\n",
       "    </tr>\n",
       "    <tr>\n",
       "      <th>672</th>\n",
       "      <td>562.67833</td>\n",
       "      <td>['trpA', 'trpBA', 'yjaA', 'trpAgpC']</td>\n",
       "      <td>['-', '-', '+', '-']</td>\n",
       "      <td>['trpAgpC']</td>\n",
       "      <td>Unknown</td>\n",
       "    </tr>\n",
       "    <tr>\n",
       "      <th>729</th>\n",
       "      <td>562.60623</td>\n",
       "      <td>['trpA', 'trpBA', 'trpAgpC']</td>\n",
       "      <td>['-', '-', '-', '-']</td>\n",
       "      <td>['trpAgpC']</td>\n",
       "      <td>Unknown</td>\n",
       "    </tr>\n",
       "    <tr>\n",
       "      <th>821</th>\n",
       "      <td>562.51562</td>\n",
       "      <td>['ybgD', 'trpA', 'trpBA', 'trpAgpC']</td>\n",
       "      <td>['-', '-', '-', '-']</td>\n",
       "      <td>['trpAgpC']</td>\n",
       "      <td>Unknown</td>\n",
       "    </tr>\n",
       "    <tr>\n",
       "      <th>1313</th>\n",
       "      <td>562.96055</td>\n",
       "      <td>['trpA', 'trpBA', 'chuA', 'yjaA', 'TspE4.C2', ...</td>\n",
       "      <td>['+', '+', '+', '+']</td>\n",
       "      <td>[]</td>\n",
       "      <td>Unknown</td>\n",
       "    </tr>\n",
       "    <tr>\n",
       "      <th>2080</th>\n",
       "      <td>562.101960</td>\n",
       "      <td>['trpA', 'trpBA', 'chuA', 'yjaA', 'TspE4.C2', ...</td>\n",
       "      <td>['+', '+', '+', '+']</td>\n",
       "      <td>[]</td>\n",
       "      <td>Unknown</td>\n",
       "    </tr>\n",
       "    <tr>\n",
       "      <th>2242</th>\n",
       "      <td>562.96228</td>\n",
       "      <td>['trpA', 'trpBA', 'chuA', 'yjaA', 'TspE4.C2', ...</td>\n",
       "      <td>['+', '+', '+', '+']</td>\n",
       "      <td>[]</td>\n",
       "      <td>Unknown</td>\n",
       "    </tr>\n",
       "    <tr>\n",
       "      <th>2275</th>\n",
       "      <td>562.101959</td>\n",
       "      <td>['trpA', 'trpBA', 'chuA', 'yjaA', 'TspE4.C2', ...</td>\n",
       "      <td>['+', '+', '+', '+']</td>\n",
       "      <td>[]</td>\n",
       "      <td>Unknown</td>\n",
       "    </tr>\n",
       "  </tbody>\n",
       "</table>\n",
       "</div>"
      ],
      "text/plain": [
       "       genome_id                                          pcr_genes  \\\n",
       "146    562.96230  ['trpA', 'trpBA', 'chuA', 'yjaA', 'TspE4.C2', ...   \n",
       "183    2044467.5                                          ['trpBA']   \n",
       "334    562.16414                          ['ybgD', 'trpA', 'trpBA']   \n",
       "672    562.67833               ['trpA', 'trpBA', 'yjaA', 'trpAgpC']   \n",
       "729    562.60623                       ['trpA', 'trpBA', 'trpAgpC']   \n",
       "821    562.51562               ['ybgD', 'trpA', 'trpBA', 'trpAgpC']   \n",
       "1313   562.96055  ['trpA', 'trpBA', 'chuA', 'yjaA', 'TspE4.C2', ...   \n",
       "2080  562.101960  ['trpA', 'trpBA', 'chuA', 'yjaA', 'TspE4.C2', ...   \n",
       "2242   562.96228  ['trpA', 'trpBA', 'chuA', 'yjaA', 'TspE4.C2', ...   \n",
       "2275  562.101959  ['trpA', 'trpBA', 'chuA', 'yjaA', 'TspE4.C2', ...   \n",
       "\n",
       "                quadruplex   CE_alleles phylogroup  \n",
       "146   ['+', '+', '+', '+']           []    Unknown  \n",
       "183   ['-', '-', '-', '-']           []    Unknown  \n",
       "334   ['-', '-', '-', '-']           []    Unknown  \n",
       "672   ['-', '-', '+', '-']  ['trpAgpC']    Unknown  \n",
       "729   ['-', '-', '-', '-']  ['trpAgpC']    Unknown  \n",
       "821   ['-', '-', '-', '-']  ['trpAgpC']    Unknown  \n",
       "1313  ['+', '+', '+', '+']           []    Unknown  \n",
       "2080  ['+', '+', '+', '+']           []    Unknown  \n",
       "2242  ['+', '+', '+', '+']           []    Unknown  \n",
       "2275  ['+', '+', '+', '+']           []    Unknown  "
      ]
     },
     "execution_count": 7,
     "metadata": {},
     "output_type": "execute_result"
    }
   ],
   "source": [
    "# These are mostly Shigella sonnei strains, with some STECs mixed in\n",
    "ecoli_phylgroups[ecoli_phylgroups.phylogroup == 'Unknown']"
   ]
  },
  {
   "cell_type": "code",
   "execution_count": 9,
   "id": "206a34ed",
   "metadata": {
    "ExecuteTime": {
     "end_time": "2023-05-03T22:46:18.667975Z",
     "start_time": "2023-05-03T22:46:18.592541Z"
    }
   },
   "outputs": [],
   "source": [
    "ecoli_phylgroups.to_csv('ecoli_phylogroups.csv')"
   ]
  }
 ],
 "metadata": {
  "kernelspec": {
   "display_name": "Python 3 (ipykernel)",
   "language": "python",
   "name": "python3"
  },
  "language_info": {
   "codemirror_mode": {
    "name": "ipython",
    "version": 3
   },
   "file_extension": ".py",
   "mimetype": "text/x-python",
   "name": "python",
   "nbconvert_exporter": "python",
   "pygments_lexer": "ipython3",
   "version": "3.10.10"
  },
  "toc": {
   "base_numbering": 1,
   "nav_menu": {},
   "number_sections": true,
   "sideBar": true,
   "skip_h1_title": false,
   "title_cell": "Table of Contents",
   "title_sidebar": "Contents",
   "toc_cell": false,
   "toc_position": {},
   "toc_section_display": true,
   "toc_window_display": false
  }
 },
 "nbformat": 4,
 "nbformat_minor": 5
}
